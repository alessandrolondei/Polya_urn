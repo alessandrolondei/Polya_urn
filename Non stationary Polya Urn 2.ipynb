{
 "cells": [
  {
   "cell_type": "markdown",
   "metadata": {},
   "source": [
    "In this notebook, a Polya's urn is implemented in a new way. After inizialization, for the first N1 steps the urn is used with the initial characteristic parameters (rho1 and nu1). Later, the charcteristic parameters change to rho2 and nu2. Then, starting from the last distribution, the urn is used with the new parameters, up to the final step. In this case, there is a further non stationary dynamics to take into account. Not only the Polya's urn generates non stationary sequences in its basic formulation (with consequent Heap's and Zipf's laws), now the urn changes its properties at a given temporal step without continuity."
   ]
  },
  {
   "cell_type": "markdown",
   "metadata": {},
   "source": [
    "In this example: Rho1 = 3, Nu1 = 2 (power law) for the first 60000 steps Rho2 = 1, Nu2 = 2 (linear increasing of novelties) for the last steps up to 300000"
   ]
  },
  {
   "cell_type": "code",
   "execution_count": 1,
   "metadata": {},
   "outputs": [],
   "source": [
    "import numpy as np\n",
    "import matplotlib.pyplot as plt"
   ]
  },
  {
   "cell_type": "code",
   "execution_count": 2,
   "metadata": {},
   "outputs": [],
   "source": [
    "import Polya"
   ]
  },
  {
   "cell_type": "code",
   "execution_count": null,
   "metadata": {},
   "outputs": [],
   "source": []
  },
  {
   "cell_type": "code",
   "execution_count": 3,
   "metadata": {},
   "outputs": [],
   "source": [
    "def ma(x, l=10):\n",
    "    x = np.array(x)\n",
    "    if l <= len(x):\n",
    "        out = np.array([x[k:k+l].mean() for k in range(len(x)-l+1)])\n",
    "    else:\n",
    "        out = np.array([x.mean()])\n",
    "    return out"
   ]
  },
  {
   "cell_type": "code",
   "execution_count": null,
   "metadata": {},
   "outputs": [],
   "source": []
  },
  {
   "cell_type": "markdown",
   "metadata": {},
   "source": [
    "### Defining parameter changes in Polya sequence"
   ]
  },
  {
   "cell_type": "markdown",
   "metadata": {},
   "source": [
    "A list  containing the starting points of Polya sequence with associated parameters (rho and nu)"
   ]
  },
  {
   "cell_type": "code",
   "execution_count": 4,
   "metadata": {},
   "outputs": [],
   "source": [
    "polya_params = [(0, (3,2)), (60000, (1,2))]"
   ]
  },
  {
   "cell_type": "markdown",
   "metadata": {},
   "source": [
    "### Number of iterations"
   ]
  },
  {
   "cell_type": "code",
   "execution_count": 5,
   "metadata": {},
   "outputs": [],
   "source": [
    "n_iters = 300000"
   ]
  },
  {
   "cell_type": "code",
   "execution_count": null,
   "metadata": {},
   "outputs": [],
   "source": []
  },
  {
   "cell_type": "markdown",
   "metadata": {},
   "source": [
    "### Function for several successive Polya sequences"
   ]
  },
  {
   "cell_type": "code",
   "execution_count": 6,
   "metadata": {},
   "outputs": [],
   "source": [
    "def polya_sequences(polya_params):\n",
    "    t_param = 0\n",
    "    n_param = len(polya_params)\n",
    "    for k in range(len(polya_params)):\n",
    "        if k == 0:\n",
    "            polya = Polya.PolyaUrn(rho=polya_params[k][1][0], nu=polya_params[k][1][1])\n",
    "        else:\n",
    "            polya.rho = polya_params[k][1][0]\n",
    "            polya.nu_plus_1 = polya_params[k][1][1] + 1\n",
    "\n",
    "        fr = polya_params[k][0]\n",
    "        if k + 1 < len(polya_params):\n",
    "            to = polya_params[k + 1][0]\n",
    "        else:\n",
    "            to = n_iters\n",
    "\n",
    "        polya.get_sequence(seq_len=to-fr, init_polya=False, print_every=1000)\n",
    "    return polya"
   ]
  },
  {
   "cell_type": "code",
   "execution_count": null,
   "metadata": {},
   "outputs": [],
   "source": []
  },
  {
   "cell_type": "markdown",
   "metadata": {},
   "source": [
    "### Getting the full non stationary sequence"
   ]
  },
  {
   "cell_type": "code",
   "execution_count": 7,
   "metadata": {
    "scrolled": true
   },
   "outputs": [
    {
     "name": "stdout",
     "output_type": "stream",
     "text": [
      "0/60000\n",
      "1000/60000\n",
      "2000/60000\n",
      "3000/60000\n",
      "4000/60000\n",
      "5000/60000\n",
      "6000/60000\n",
      "7000/60000\n",
      "8000/60000\n",
      "9000/60000\n",
      "10000/60000\n",
      "11000/60000\n",
      "12000/60000\n",
      "13000/60000\n",
      "14000/60000\n",
      "15000/60000\n",
      "16000/60000\n",
      "17000/60000\n",
      "18000/60000\n",
      "19000/60000\n",
      "20000/60000\n",
      "21000/60000\n",
      "22000/60000\n",
      "23000/60000\n",
      "24000/60000\n",
      "25000/60000\n",
      "26000/60000\n",
      "27000/60000\n",
      "28000/60000\n",
      "29000/60000\n",
      "30000/60000\n",
      "31000/60000\n",
      "32000/60000\n",
      "33000/60000\n",
      "34000/60000\n",
      "35000/60000\n",
      "36000/60000\n",
      "37000/60000\n",
      "38000/60000\n",
      "39000/60000\n",
      "40000/60000\n",
      "41000/60000\n",
      "42000/60000\n",
      "43000/60000\n",
      "44000/60000\n",
      "45000/60000\n",
      "46000/60000\n",
      "47000/60000\n",
      "48000/60000\n",
      "49000/60000\n",
      "50000/60000\n",
      "51000/60000\n",
      "52000/60000\n",
      "53000/60000\n",
      "54000/60000\n",
      "55000/60000\n",
      "56000/60000\n",
      "57000/60000\n",
      "58000/60000\n",
      "59000/60000\n",
      "0/240000\n",
      "1000/240000\n",
      "2000/240000\n",
      "3000/240000\n",
      "4000/240000\n",
      "5000/240000\n",
      "6000/240000\n",
      "7000/240000\n",
      "8000/240000\n",
      "9000/240000\n",
      "10000/240000\n",
      "11000/240000\n",
      "12000/240000\n",
      "13000/240000\n",
      "14000/240000\n",
      "15000/240000\n",
      "16000/240000\n",
      "17000/240000\n",
      "18000/240000\n",
      "19000/240000\n",
      "20000/240000\n",
      "21000/240000\n",
      "22000/240000\n",
      "23000/240000\n",
      "24000/240000\n",
      "25000/240000\n",
      "26000/240000\n",
      "27000/240000\n",
      "28000/240000\n",
      "29000/240000\n",
      "30000/240000\n",
      "31000/240000\n",
      "32000/240000\n",
      "33000/240000\n",
      "34000/240000\n",
      "35000/240000\n",
      "36000/240000\n",
      "37000/240000\n",
      "38000/240000\n",
      "39000/240000\n",
      "40000/240000\n",
      "41000/240000\n",
      "42000/240000\n",
      "43000/240000\n",
      "44000/240000\n",
      "45000/240000\n",
      "46000/240000\n",
      "47000/240000\n",
      "48000/240000\n",
      "49000/240000\n",
      "50000/240000\n",
      "51000/240000\n",
      "52000/240000\n",
      "53000/240000\n",
      "54000/240000\n",
      "55000/240000\n",
      "56000/240000\n",
      "57000/240000\n",
      "58000/240000\n",
      "59000/240000\n",
      "60000/240000\n",
      "61000/240000\n",
      "62000/240000\n",
      "63000/240000\n",
      "64000/240000\n",
      "65000/240000\n",
      "66000/240000\n",
      "67000/240000\n",
      "68000/240000\n",
      "69000/240000\n",
      "70000/240000\n",
      "71000/240000\n",
      "72000/240000\n",
      "73000/240000\n",
      "74000/240000\n",
      "75000/240000\n",
      "76000/240000\n",
      "77000/240000\n",
      "78000/240000\n",
      "79000/240000\n",
      "80000/240000\n",
      "81000/240000\n",
      "82000/240000\n",
      "83000/240000\n",
      "84000/240000\n",
      "85000/240000\n",
      "86000/240000\n",
      "87000/240000\n",
      "88000/240000\n",
      "89000/240000\n",
      "90000/240000\n",
      "91000/240000\n",
      "92000/240000\n",
      "93000/240000\n",
      "94000/240000\n",
      "95000/240000\n",
      "96000/240000\n",
      "97000/240000\n",
      "98000/240000\n",
      "99000/240000\n",
      "100000/240000\n",
      "101000/240000\n",
      "102000/240000\n",
      "103000/240000\n",
      "104000/240000\n",
      "105000/240000\n",
      "106000/240000\n",
      "107000/240000\n",
      "108000/240000\n",
      "109000/240000\n",
      "110000/240000\n",
      "111000/240000\n",
      "112000/240000\n",
      "113000/240000\n",
      "114000/240000\n",
      "115000/240000\n",
      "116000/240000\n",
      "117000/240000\n",
      "118000/240000\n",
      "119000/240000\n",
      "120000/240000\n",
      "121000/240000\n",
      "122000/240000\n",
      "123000/240000\n",
      "124000/240000\n",
      "125000/240000\n",
      "126000/240000\n",
      "127000/240000\n",
      "128000/240000\n",
      "129000/240000\n",
      "130000/240000\n",
      "131000/240000\n",
      "132000/240000\n",
      "133000/240000\n",
      "134000/240000\n",
      "135000/240000\n",
      "136000/240000\n",
      "137000/240000\n",
      "138000/240000\n",
      "139000/240000\n",
      "140000/240000\n",
      "141000/240000\n",
      "142000/240000\n",
      "143000/240000\n",
      "144000/240000\n",
      "145000/240000\n",
      "146000/240000\n",
      "147000/240000\n",
      "148000/240000\n",
      "149000/240000\n",
      "150000/240000\n",
      "151000/240000\n",
      "152000/240000\n",
      "153000/240000\n",
      "154000/240000\n",
      "155000/240000\n",
      "156000/240000\n",
      "157000/240000\n",
      "158000/240000\n",
      "159000/240000\n",
      "160000/240000\n",
      "161000/240000\n",
      "162000/240000\n",
      "163000/240000\n",
      "164000/240000\n",
      "165000/240000\n",
      "166000/240000\n",
      "167000/240000\n",
      "168000/240000\n",
      "169000/240000\n",
      "170000/240000\n",
      "171000/240000\n",
      "172000/240000\n",
      "173000/240000\n",
      "174000/240000\n",
      "175000/240000\n",
      "176000/240000\n",
      "177000/240000\n",
      "178000/240000\n",
      "179000/240000\n",
      "180000/240000\n",
      "181000/240000\n",
      "182000/240000\n",
      "183000/240000\n",
      "184000/240000\n",
      "185000/240000\n",
      "186000/240000\n",
      "187000/240000\n",
      "188000/240000\n",
      "189000/240000\n",
      "190000/240000\n",
      "191000/240000\n",
      "192000/240000\n",
      "193000/240000\n",
      "194000/240000\n",
      "195000/240000\n",
      "196000/240000\n",
      "197000/240000\n",
      "198000/240000\n",
      "199000/240000\n",
      "200000/240000\n",
      "201000/240000\n",
      "202000/240000\n",
      "203000/240000\n",
      "204000/240000\n",
      "205000/240000\n",
      "206000/240000\n",
      "207000/240000\n",
      "208000/240000\n",
      "209000/240000\n",
      "210000/240000\n",
      "211000/240000\n",
      "212000/240000\n",
      "213000/240000\n",
      "214000/240000\n",
      "215000/240000\n",
      "216000/240000\n",
      "217000/240000\n",
      "218000/240000\n",
      "219000/240000\n",
      "220000/240000\n",
      "221000/240000\n",
      "222000/240000\n",
      "223000/240000\n",
      "224000/240000\n",
      "225000/240000\n",
      "226000/240000\n",
      "227000/240000\n",
      "228000/240000\n",
      "229000/240000\n",
      "230000/240000\n",
      "231000/240000\n",
      "232000/240000\n",
      "233000/240000\n",
      "234000/240000\n",
      "235000/240000\n",
      "236000/240000\n",
      "237000/240000\n",
      "238000/240000\n",
      "239000/240000\n"
     ]
    }
   ],
   "source": [
    "polya = polya_sequences(polya_params)"
   ]
  },
  {
   "cell_type": "code",
   "execution_count": null,
   "metadata": {},
   "outputs": [],
   "source": []
  },
  {
   "cell_type": "code",
   "execution_count": null,
   "metadata": {},
   "outputs": [],
   "source": []
  },
  {
   "cell_type": "code",
   "execution_count": 8,
   "metadata": {},
   "outputs": [
    {
     "data": {
      "image/png": "[encoded data removed]",
      "text/plain": [
       "<Figure size 432x288 with 1 Axes>"
      ]
     },
     "metadata": {
      "needs_background": "light"
     },
     "output_type": "display_data"
    },
    {
     "data": {
      "image/png": "[encoded data removed]",
      "text/plain": [
       "<Figure size 432x288 with 1 Axes>"
      ]
     },
     "metadata": {
      "needs_background": "light"
     },
     "output_type": "display_data"
    }
   ],
   "source": [
    "ss = []\n",
    "dx = 1000\n",
    "for k in range(0, n_iters, dx):\n",
    "    ss.append(polya.seq_novelty[k:k+dx].sum())\n",
    "plt.plot(range(0, n_iters, dx), ss)\n",
    "y1 = max(ss)\n",
    "for k in range(len(polya_params)):\n",
    "    x1 = polya_params[k][0]\n",
    "    plt.plot([x1,x1],[0,y1],'--')\n",
    "_ = plt.xticks(rotation=45)\n",
    "plt.show()\n",
    "\n",
    "plt.loglog(range(0, n_iters, dx), ss)\n",
    "for k in range(len(polya_params)):\n",
    "    x1 = polya_params[k][0]\n",
    "    plt.plot([x1,x1],[0,y1],'--')\n",
    "_ = plt.xticks(rotation=45)\n",
    "plt.show()"
   ]
  },
  {
   "cell_type": "code",
   "execution_count": 9,
   "metadata": {},
   "outputs": [
    {
     "data": {
      "text/plain": [
       "[<matplotlib.lines.Line2D at 0x7fdc7b583310>]"
      ]
     },
     "execution_count": 9,
     "metadata": {},
     "output_type": "execute_result"
    },
    {
     "data": {
      "image/png": "[encoded data removed]",
      "text/plain": [
       "<Figure size 1152x432 with 1 Axes>"
      ]
     },
     "metadata": {
      "needs_background": "light"
     },
     "output_type": "display_data"
    }
   ],
   "source": [
    "maval = 10000\n",
    "plt.figure(figsize=(16,6))\n",
    "ss = []\n",
    "for k in range(n_iters):\n",
    "    ss.append(polya.seq_novelty[k:k+dx].sum())\n",
    "ss1 = ma(ss, maval)\n",
    "y1 = max(ss1)\n",
    "for k in range(len(polya_params)):\n",
    "    x1 = polya_params[k][0] - int(maval/1)\n",
    "    plt.plot([x1,x1],[0,y1],'--')\n",
    "plt.loglog(ss1)"
   ]
  },
  {
   "cell_type": "code",
   "execution_count": null,
   "metadata": {},
   "outputs": [],
   "source": []
  },
  {
   "cell_type": "code",
   "execution_count": 10,
   "metadata": {},
   "outputs": [
    {
     "data": {
      "image/png": "[encoded data removed]",
      "text/plain": [
       "<Figure size 432x288 with 1 Axes>"
      ]
     },
     "metadata": {
      "needs_background": "light"
     },
     "output_type": "display_data"
    }
   ],
   "source": [
    "y = polya.seq_novelty.cumsum()\n",
    "y1 = y.max()\n",
    "plt.plot(y)\n",
    "for k in range(len(polya_params)):\n",
    "    x1 = polya_params[k][0]\n",
    "    plt.plot([x1,x1],[0,y1],'--')"
   ]
  },
  {
   "cell_type": "code",
   "execution_count": 11,
   "metadata": {},
   "outputs": [
    {
     "data": {
      "image/png": "[encoded data removed]",
      "text/plain": [
       "<Figure size 432x288 with 1 Axes>"
      ]
     },
     "metadata": {
      "needs_background": "light"
     },
     "output_type": "display_data"
    }
   ],
   "source": [
    "y = polya.seq_novelty.cumsum()\n",
    "y1 = y.max()\n",
    "plt.loglog(y)\n",
    "for k in range(len(polya_params)):\n",
    "    x1 = polya_params[k][0]\n",
    "    plt.plot([x1,x1],[0,y1],'--')"
   ]
  },
  {
   "cell_type": "code",
   "execution_count": 12,
   "metadata": {},
   "outputs": [
    {
     "data": {
      "image/png": "[encoded data removed]",
      "text/plain": [
       "<Figure size 576x576 with 1 Axes>"
      ]
     },
     "metadata": {
      "needs_background": "light"
     },
     "output_type": "display_data"
    }
   ],
   "source": [
    "plt.figure(figsize=(8,8))\n",
    "fr = 30000\n",
    "y = polya.seq_novelty.cumsum()\n",
    "y1 = y.max()\n",
    "plt.loglog(range(fr, len(y)),y[fr:])\n",
    "for k in range(len(polya_params)):\n",
    "    x1 = polya_params[k][0]\n",
    "    plt.plot([x1,x1],[0,y1],'--')"
   ]
  },
  {
   "cell_type": "code",
   "execution_count": 13,
   "metadata": {},
   "outputs": [
    {
     "data": {
      "text/plain": [
       "60000"
      ]
     },
     "execution_count": 13,
     "metadata": {},
     "output_type": "execute_result"
    }
   ],
   "source": [
    "polya_params[1][0]"
   ]
  },
  {
   "cell_type": "code",
   "execution_count": 14,
   "metadata": {},
   "outputs": [],
   "source": [
    "import pickle"
   ]
  },
  {
   "cell_type": "code",
   "execution_count": 15,
   "metadata": {},
   "outputs": [],
   "source": [
    "polya_final = dict()\n",
    "polya_final['polya'] = polya\n",
    "polya_final['polya_params'] = polya_params"
   ]
  },
  {
   "cell_type": "code",
   "execution_count": 16,
   "metadata": {},
   "outputs": [],
   "source": [
    "with open('polya_seq/polya_urn_len_3000000_nu2_rho3_to60000_nu2_rho1.pkl', 'wb') as f:\n",
    "    pickle.dump(polya_final, f)"
   ]
  },
  {
   "cell_type": "code",
   "execution_count": null,
   "metadata": {},
   "outputs": [],
   "source": []
  }
 ],
 "metadata": {
  "kernelspec": {
   "display_name": "Python 3",
   "language": "python",
   "name": "python3"
  },
  "language_info": {
   "codemirror_mode": {
    "name": "ipython",
    "version": 3
   },
   "file_extension": ".py",
   "mimetype": "text/x-python",
   "name": "python",
   "nbconvert_exporter": "python",
   "pygments_lexer": "ipython3",
   "version": "3.8.3"
  }
 },
 "nbformat": 4,
 "nbformat_minor": 2
}
