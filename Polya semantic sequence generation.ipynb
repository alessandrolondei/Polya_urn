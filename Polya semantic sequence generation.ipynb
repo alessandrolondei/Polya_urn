{
 "cells": [
  {
   "cell_type": "code",
   "execution_count": 1,
   "metadata": {},
   "outputs": [],
   "source": [
    "from Polya import PolyaUrn, load_polya\n",
    "import numpy as np\n",
    "import matplotlib.pyplot as plt"
   ]
  },
  {
   "cell_type": "code",
   "execution_count": null,
   "metadata": {},
   "outputs": [],
   "source": []
  },
  {
   "cell_type": "code",
   "execution_count": 5,
   "metadata": {},
   "outputs": [],
   "source": [
    "p = load_polya('./polya_seq/polya_urn_len_100000_novelties_772_nu2_rho3_eta0.80.pkl')\n",
    "p.load_extras('./polya_seq/polya_urn_len_100000_novelties_772_nu2_rho3_eta0.80_extras.pkl')"
   ]
  },
  {
   "cell_type": "code",
   "execution_count": null,
   "metadata": {},
   "outputs": [],
   "source": []
  },
  {
   "cell_type": "code",
   "execution_count": 8,
   "metadata": {},
   "outputs": [
    {
     "data": {
      "text/plain": [
       "[<matplotlib.lines.Line2D at 0x7f257ba6f8b0>]"
      ]
     },
     "execution_count": 8,
     "metadata": {},
     "output_type": "execute_result"
    },
    {
     "data": {
      "image/png": "[encoded data removed]",
      "text/plain": [
       "<Figure size 432x288 with 1 Axes>"
      ]
     },
     "metadata": {
      "needs_background": "light"
     },
     "output_type": "display_data"
    }
   ],
   "source": [
    "plt.plot(p.extras['seq_entropy'])\n",
    "plt.plot(p.extras['seq_seen_entropy'])"
   ]
  },
  {
   "cell_type": "code",
   "execution_count": 12,
   "metadata": {},
   "outputs": [
    {
     "data": {
      "text/plain": [
       "[<matplotlib.lines.Line2D at 0x7f257b935ac0>]"
      ]
     },
     "execution_count": 12,
     "metadata": {},
     "output_type": "execute_result"
    },
    {
     "data": {
      "image/png": "[encoded data removed]",
      "text/plain": [
       "<Figure size 432x288 with 1 Axes>"
      ]
     },
     "metadata": {
      "needs_background": "light"
     },
     "output_type": "display_data"
    }
   ],
   "source": [
    "plt.loglog(p.zipf())"
   ]
  },
  {
   "cell_type": "code",
   "execution_count": 13,
   "metadata": {},
   "outputs": [
    {
     "data": {
      "text/plain": [
       "[<matplotlib.lines.Line2D at 0x7f257945fbe0>]"
      ]
     },
     "execution_count": 13,
     "metadata": {},
     "output_type": "execute_result"
    },
    {
     "data": {
      "image/png": "[encoded data removed]",
      "text/plain": [
       "<Figure size 432x288 with 1 Axes>"
      ]
     },
     "metadata": {
      "needs_background": "light"
     },
     "output_type": "display_data"
    }
   ],
   "source": [
    "plt.loglog(p.heaps())"
   ]
  },
  {
   "cell_type": "code",
   "execution_count": 10,
   "metadata": {},
   "outputs": [
    {
     "data": {
      "text/plain": [
       "array([ 2,  5,  9,  5,  2,  7,  8,  2,  5,  9,  8,  4,  9,  8,  2,  2,  8,\n",
       "        7, 19, 19,  5,  7,  9,  8,  8,  4,  4,  2,  2,  5,  9,  8,  2,  5,\n",
       "       14,  9,  8,  8,  5,  2,  9,  2,  4,  2,  2,  7,  5,  8,  5,  2,  9,\n",
       "        3,  9,  2,  4,  8,  7,  5,  2,  2,  2,  2,  9,  2,  2,  8,  8,  9,\n",
       "        5,  2, 25,  5,  2,  8,  8,  8,  5,  8,  8, 28,  2,  2,  8,  8,  8,\n",
       "        2,  2,  5, 18,  7, 17, 14, 18,  5,  8,  2,  5,  2,  5,  2,  2,  2,\n",
       "        2,  8,  7,  5,  5,  2,  5,  2,  9,  2,  5,  9, 19, 32,  8,  2, 14,\n",
       "        8,  8,  8, 14,  2,  2,  2,  2,  8,  2,  2,  9, 17,  5,  2,  2,  5,\n",
       "        8,  2, 12,  5,  2,  5,  7,  8,  9,  2,  2, 25,  3,  2,  5,  9, 12,\n",
       "        8,  9,  2,  9,  4,  2,  5,  9, 14,  2,  8,  2,  7,  3,  2,  6,  2,\n",
       "        2,  2,  5, 18, 33,  2,  7,  9, 30, 19,  4,  2,  9,  9, 19, 38,  9,\n",
       "        8,  5,  3,  8,  5,  2,  2, 58,  4,  2,  2,  2, 18,  2, 17,  9,  2,\n",
       "        5,  5,  2,  6, 19,  5,  2,  8,  5,  9,  5,  5,  5,  6, 12,  2,  2,\n",
       "        2,  2, 41,  5,  2,  9,  7, 42, 19,  5,  5,  8,  4,  5,  3,  7,  8,\n",
       "        2,  2,  9,  7,  9,  2,  2, 14, 17,  3, 12, 17,  2,  2,  5,  2,  2,\n",
       "        2,  9, 17,  9,  2, 58,  2,  5,  8,  8,  2,  9,  5,  3,  7,  8, 42,\n",
       "        5, 60, 27, 76,  9, 14,  8,  8, 17,  7,  2,  2,  3,  9,  8, 12,  5,\n",
       "        7,  5,  2,  8,  8,  9,  2,  8,  2, 17,  2,  2,  2,  2,  9,  2,  8,\n",
       "        5, 12,  2,  8,  9, 17,  8,  9, 76,  9,  8, 12,  2,  2,  2, 25,  7,\n",
       "        5,  2, 41,  2,  8,  4,  5,  5,  9,  2,  4,  5, 76, 14,  2,  2,  5,\n",
       "        2,  2,  8,  8,  2,  8,  2,  5, 61,  2,  2,  8,  8,  3, 58,  9,  2,\n",
       "       60,  9,  4,  2,  7,  7,  2,  2,  5,  2,  8,  2,  9, 58, 12, 41,  8,\n",
       "       42,  6,  5, 58,  5,  2,  8,  8, 18,  9, 12,  3,  6, 19,  8,  3, 27,\n",
       "        2,  2,  7,  3,  5,  5,  7,  2,  2,  2,  2,  2,  2,  2,  2,  8,  2,\n",
       "        2, 17,  2,  2,  4,  5,  8,  9, 29,  8, 17,  8,  4,  2,  2,  4,  2,\n",
       "        8,  2,  2,  8,  8, 12,  9,  7, 41, 17,  2,  8, 46,  8,  8,  9, 27,\n",
       "       19,  2,  2,  2,  5, 17,  8,  5,  2, 33,  5,  9,  3,  8,  5,  3,  2,\n",
       "        2,  2,  3,  9,  8,  8,  8,  8,  9,  8,  8,  9,  9,  5,  3,  2,  5,\n",
       "        8,  5,  2,  8,  9,  2,  7,  8,  2,  5,  2,  7,  5,  2,  2,  2,  8,\n",
       "        2,  8,  5,  2, 17,  2,  2,  7,  4,  2,  9,  8,  2,  8,  2, 41, 77,\n",
       "        5,  2,  7, 17,  2,  5,  2,  4, 17, 42, 66,  5, 14, 19,  2,  5, 14,\n",
       "       38,  8,  4, 19,  2,  2,  5, 17,  2,  5,  9,  9,  5,  2, 12,  7, 25,\n",
       "        2,  9,  9,  2,  3,  2, 12,  5, 12,  2,  9,  8,  8,  6,  2,  8,  2,\n",
       "       74, 18,  8,  2,  9,  8,  5,  8,  2,  2,  2,  2,  5,  5,  8,  8,  9,\n",
       "        7,  5, 17,  7,  2,  2,  2,  4,  8, 12,  8,  8, 97,  2,  2, 33,  2,\n",
       "       17,  5,  9,  8,  2,  2,  9,  8,  5, 18, 41, 38,  8,  2,  2,  8,  2,\n",
       "        7, 41,  9,  2,  7,  8, 17, 38,  2,  2, 97,  2,  8,  2,  9,  5,  3,\n",
       "        4,  4,  8, 12,  2,  8,  4,  2,  8,  5, 19,  4,  8,  5,  2,  5,  2,\n",
       "       17, 76,  5,  2,  9, 25, 29,  4,  8,  5,  8,  6,  2,  6,  9,  5,  4,\n",
       "        8,  2, 60,  5,  9,  2,  2,  2,  2,  5,  5,  6,  2, 18,  8,  8,  2,\n",
       "        2, 14, 27,  5,  5, 12,  2,  2,  5,  2,  8,  2,  2,  4,  2,  2,  9,\n",
       "        9,  4,  6,  6,  8,  2,  2,  5, 17,  2,  2,  2,  2,  7,  9,  2,  2,\n",
       "        4,  7,  2,  8, 12,  7,  7,  3, 76,  2,  5,  5, 94,  2,  2,  2,  8,\n",
       "        2,  9, 12,  2,  2,  2,  4,  2,  9,  5,  2,  5, 19,  8,  2,  9,  5,\n",
       "        2,  4,  5,  8,  2,  9,  5, 57,  2,  2,  9,  5,  7,  4,  2,  8, 20,\n",
       "        2,  2,  3, 19, 18, 19,  5,  5,  5, 38,  5, 12,  6,  8,  9,  9,  2,\n",
       "       19,  5,  7,  8,  9,  2,  3,  2,  9,  5,  7,  2,  2, 11,  2,  2, 76,\n",
       "        9, 28,  2,  7,  5,  7,  2,  5,  9,  5,  2,  2,  2, 12,  5,  7,  8,\n",
       "        7,  9,  7,  8,  2,  9,  8,  3,  2,  2, 87, 87,  2,  7,  2,  8,  8,\n",
       "        5,  2,  2,  2,  5, 18,  2,  2,  5,  8,  4,  2,  8,  2,  4,  5,  5,\n",
       "        5,  2,  2, 19,  5, 14,  7,  9, 60,  8,  5,  5,  8,  2,  4,  2,  2,\n",
       "        2,  2,  2,  2,  9,  5,  8,  8,  8,  2,  2,  5,  8,  8,  5,  2, 89,\n",
       "       16,  7,  2,  2,  8,  5,  2,  2, 19,  2,  4,  3,  2, 12,  8, 42,  2,\n",
       "        8,  8, 19,  9,  2,  9,  9,  5,  7, 12,  2, 12,  8,  7,  2,  5,  2,\n",
       "        3,  5,  2,  5,  2,  3,  2,  2,  4,  4,  2,  8, 25,  5,  2,  2, 19,\n",
       "        7,  2, 52, 17, 12,  2, 25,  2, 76,  2,  2,  3,  2,  8,  2,  2,  7,\n",
       "        5,  5,  7,  7,  8,  8,  7,  7,  5,  9,  7,  7, 19,  2,  5,  3,  6,\n",
       "        2,  2,  5,  2, 74,  8, 87,  2,  2,  8,  9,  8,  5, 19,  2,  5,  2,\n",
       "        5,  5, 12,  5,  4,  2,  2,  5,  8, 19,  7,  3,  7,  8])"
      ]
     },
     "execution_count": 10,
     "metadata": {},
     "output_type": "execute_result"
    }
   ],
   "source": [
    "p.seq[:1000]"
   ]
  },
  {
   "cell_type": "markdown",
   "metadata": {},
   "source": [
    "### Polya parameters"
   ]
  },
  {
   "cell_type": "code",
   "execution_count": null,
   "metadata": {},
   "outputs": [],
   "source": [
    "init_balls_per_color = 1\n",
    "init_colors = 5\n",
    "nu = 2\n",
    "rho = 3\n",
    "eta = 0.8\n",
    "#eta = 1.0\n",
    "entropy_base = 2\n",
    "seq_len=100000\n"
   ]
  },
  {
   "cell_type": "markdown",
   "metadata": {},
   "source": [
    "### Instantiating Polya object"
   ]
  },
  {
   "cell_type": "code",
   "execution_count": null,
   "metadata": {},
   "outputs": [],
   "source": [
    "p = PolyaUrn(rho=rho, nu=nu, eta=eta, entropy_base=entropy_base, init_colors=init_colors, \n",
    "             init_balls_per_color=init_balls_per_color)\n"
   ]
  },
  {
   "cell_type": "code",
   "execution_count": null,
   "metadata": {},
   "outputs": [],
   "source": [
    "p.ind_colors"
   ]
  },
  {
   "cell_type": "code",
   "execution_count": null,
   "metadata": {},
   "outputs": [],
   "source": [
    "print('Balls/Labels:', p.balls, p.labels)\n",
    "print('Label distribution:', p.label_distribution)\n",
    "print('Label 2 color:', p.label2color)\n",
    "print('Color 2 label:', p.color2label)\n",
    "print('Color 2 offspring:', p.color2offspring)\n",
    "print('Label 2 parent color', p.label2parent_color)"
   ]
  },
  {
   "cell_type": "code",
   "execution_count": null,
   "metadata": {},
   "outputs": [],
   "source": [
    "sam, nov = p.sample()\n",
    "print(p.seq)\n",
    "print('Sample:', sam, nov)\n",
    "print('Balls :', p.balls)\n",
    "print('Labels:', p.labels)\n",
    "print('Label distribution:', p.label_distribution)\n",
    "print('Label 2 color:', p.label2color)\n",
    "print('Color 2 label:', p.color2label)\n",
    "print('Color 2 offspring:', p.color2offspring)\n",
    "print('Label 2 parent color', p.label2parent_color)\n",
    "print(p.distribution)"
   ]
  },
  {
   "cell_type": "code",
   "execution_count": null,
   "metadata": {},
   "outputs": [],
   "source": [
    "sam, nov = p.sample()\n",
    "\n",
    "print('Sample:', sam, nov, 'Label:', p.labels[-1])\n",
    "print(p.seq)\n",
    "#print('Balls :', p.balls)\n",
    "#print('Labels:', p.labels)\n",
    "#print('Label distribution:', p.label_distribution)\n",
    "#print('Label 2 color:', p.label2color)\n",
    "#print('Color 2 label:', p.color2label)\n",
    "#print('Color 2 offspring:', p.color2offspring)\n",
    "#print('Label 2 parent color', p.label2parent_color)"
   ]
  },
  {
   "cell_type": "code",
   "execution_count": null,
   "metadata": {},
   "outputs": [],
   "source": [
    "for k in range(10):\n",
    "    sam, nov = p.sample()\n",
    "\n",
    "#print('Sample:', sam, nov, 'Label:', p.labels[-1])\n",
    "print(p.seq)"
   ]
  },
  {
   "cell_type": "code",
   "execution_count": null,
   "metadata": {},
   "outputs": [],
   "source": [
    "p = PolyaUrn(rho=rho, nu=nu, eta=eta, entropy_base=entropy_base, init_colors=init_colors, \n",
    "             init_balls_per_color=init_balls_per_color)\n",
    "p.get_sequence(seq_len=seq_len, get_seq_entropies=True, print_every=200)"
   ]
  },
  {
   "cell_type": "markdown",
   "metadata": {},
   "source": [
    "### Polya's sequence"
   ]
  },
  {
   "cell_type": "code",
   "execution_count": null,
   "metadata": {
    "scrolled": true
   },
   "outputs": [],
   "source": [
    "p.get_sequence(seq_len=seq_len, get_seq_entropies=True, print_every=200)"
   ]
  },
  {
   "cell_type": "code",
   "execution_count": null,
   "metadata": {
    "scrolled": true
   },
   "outputs": [],
   "source": [
    "p.seq"
   ]
  },
  {
   "cell_type": "markdown",
   "metadata": {},
   "source": [
    "Max element (color) in Polya sequence"
   ]
  },
  {
   "cell_type": "code",
   "execution_count": null,
   "metadata": {},
   "outputs": [],
   "source": [
    "p.seq.max()"
   ]
  },
  {
   "cell_type": "markdown",
   "metadata": {},
   "source": [
    "### Print Polya Urn info"
   ]
  },
  {
   "cell_type": "code",
   "execution_count": null,
   "metadata": {},
   "outputs": [],
   "source": [
    "print(p)"
   ]
  },
  {
   "cell_type": "markdown",
   "metadata": {},
   "source": [
    "### Calculate extras (entropies and distributions)"
   ]
  },
  {
   "cell_type": "code",
   "execution_count": null,
   "metadata": {},
   "outputs": [],
   "source": [
    "p.get_entropy_and_distributions()"
   ]
  },
  {
   "cell_type": "markdown",
   "metadata": {},
   "source": [
    "### Plotting entropies"
   ]
  },
  {
   "cell_type": "code",
   "execution_count": null,
   "metadata": {},
   "outputs": [],
   "source": [
    "plt.plot(p.extras['seq_entropy'], label='Urn Entropy')\n",
    "plt.plot(p.extras['seq_seen_entropy'], label='Sequence Entropy')\n",
    "_ = plt.legend(loc='best')"
   ]
  },
  {
   "cell_type": "markdown",
   "metadata": {},
   "source": [
    "### Plotting distributions at different steps"
   ]
  },
  {
   "cell_type": "code",
   "execution_count": null,
   "metadata": {},
   "outputs": [],
   "source": [
    "steps = [0, 2, 10, 30, 60, 100]\n",
    "width = 0.35\n",
    "for step in steps:\n",
    "    plt.figure(figsize=(20,6))\n",
    "    ind = np.arange(p.extras['seq_distributions'][step].shape[0])\n",
    "    plt.bar(ind, p.extras['seq_distributions'][step], width, label='Urn distribution at step '+str(step))\n",
    "    plt.bar(ind+width, p.extras['seq_seen_distributions'][step], width, label='Sequence distribution at step '+str(step))\n",
    "    _ = plt.legend(loc='best')\n",
    "    plt.show()"
   ]
  },
  {
   "cell_type": "markdown",
   "metadata": {},
   "source": [
    "### Zipf's and Heaps' distributions"
   ]
  },
  {
   "cell_type": "code",
   "execution_count": null,
   "metadata": {},
   "outputs": [],
   "source": [
    "zipf = p.zipf()\n",
    "plt.loglog(zipf)\n",
    "plt.title('Zipf\\'s distribution')\n",
    "plt.show()"
   ]
  },
  {
   "cell_type": "code",
   "execution_count": null,
   "metadata": {},
   "outputs": [],
   "source": [
    "heaps = p.heaps()\n",
    "plt.loglog(heaps)\n",
    "plt.title('Heaps\\' distribution')\n",
    "plt.show()"
   ]
  },
  {
   "cell_type": "markdown",
   "metadata": {},
   "source": [
    "### Shuffling sequence elements"
   ]
  },
  {
   "cell_type": "code",
   "execution_count": null,
   "metadata": {},
   "outputs": [],
   "source": [
    "new_seq = p.seq_color_shuffling(max_color=100000)"
   ]
  },
  {
   "cell_type": "code",
   "execution_count": null,
   "metadata": {},
   "outputs": [],
   "source": [
    "print('Real sequence:', p.seq[:30], '\\n')\n",
    "print('Shuffled sequence:', new_seq[:30])"
   ]
  },
  {
   "cell_type": "markdown",
   "metadata": {},
   "source": [
    "### Compacting sequence"
   ]
  },
  {
   "cell_type": "code",
   "execution_count": null,
   "metadata": {},
   "outputs": [],
   "source": [
    "comp_seq = p.seq_compacting()"
   ]
  },
  {
   "cell_type": "code",
   "execution_count": null,
   "metadata": {},
   "outputs": [],
   "source": [
    "print('Real sequence:', p.seq[:30], '\\n')\n",
    "print('Compacted sequence:', comp_seq[:30])"
   ]
  },
  {
   "cell_type": "markdown",
   "metadata": {},
   "source": [
    "### Saving Polya"
   ]
  },
  {
   "cell_type": "code",
   "execution_count": null,
   "metadata": {},
   "outputs": [],
   "source": [
    "p.save()"
   ]
  },
  {
   "cell_type": "markdown",
   "metadata": {},
   "source": [
    "### Saving extras (entropies and distributions)"
   ]
  },
  {
   "cell_type": "code",
   "execution_count": null,
   "metadata": {},
   "outputs": [],
   "source": [
    "p.save_extras()"
   ]
  },
  {
   "cell_type": "markdown",
   "metadata": {},
   "source": [
    "### Load Polya without extras"
   ]
  },
  {
   "cell_type": "code",
   "execution_count": null,
   "metadata": {},
   "outputs": [],
   "source": [
    "p1 = load_polya('./polya_seq/polya_urn_len_10000_novelties_335_nu2_rho3_eta1.pkl')"
   ]
  },
  {
   "cell_type": "code",
   "execution_count": null,
   "metadata": {},
   "outputs": [],
   "source": [
    "print(p1)"
   ]
  },
  {
   "cell_type": "markdown",
   "metadata": {},
   "source": [
    "### Loading Polya extras"
   ]
  },
  {
   "cell_type": "code",
   "execution_count": null,
   "metadata": {},
   "outputs": [],
   "source": [
    "p1.load_extras('./polya_seq/polya_urn_len_10000_novelties_335_nu2_rho3_eta1_extras.pkl')"
   ]
  },
  {
   "cell_type": "code",
   "execution_count": null,
   "metadata": {},
   "outputs": [],
   "source": [
    "print(p1)"
   ]
  },
  {
   "cell_type": "code",
   "execution_count": null,
   "metadata": {},
   "outputs": [],
   "source": []
  },
  {
   "cell_type": "code",
   "execution_count": null,
   "metadata": {},
   "outputs": [],
   "source": []
  }
 ],
 "metadata": {
  "kernelspec": {
   "display_name": "Python 3",
   "language": "python",
   "name": "python3"
  },
  "language_info": {
   "codemirror_mode": {
    "name": "ipython",
    "version": 3
   },
   "file_extension": ".py",
   "mimetype": "text/x-python",
   "name": "python",
   "nbconvert_exporter": "python",
   "pygments_lexer": "ipython3",
   "version": "3.8.3"
  }
 },
 "nbformat": 4,
 "nbformat_minor": 4
}
